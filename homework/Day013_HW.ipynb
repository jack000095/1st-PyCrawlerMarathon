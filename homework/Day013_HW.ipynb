{
 "cells": [
  {
   "cell_type": "markdown",
   "metadata": {},
   "source": [
    "# PTT 網路爬蟲實作練習\n",
    "\n",
    "\n",
    "* 能夠利用 Request + BeatifulSour 撰寫爬蟲，並存放到合適的資料結構\n"
   ]
  },
  {
   "cell_type": "markdown",
   "metadata": {},
   "source": [
    "## 作業目標\n",
    "\n",
    "根據範例 ，完成以下問題：\n",
    "\n",
    "* ① 印出最新文章的「作者」「標題」「時間」\n",
    "* ② 印出第一頁所有文章的「作者」「標題」「時間」\n"
   ]
  },
  {
   "cell_type": "markdown",
   "metadata": {},
   "source": [
    "### ① 印出最新文章的「作者」「標題」「時間」"
   ]
  },
  {
   "cell_type": "code",
   "execution_count": 8,
   "metadata": {},
   "outputs": [],
   "source": [
    "import requests\n",
    "from pyquery import PyQuery as pq\n",
    "\n",
    "url = 'https://www.ptt.cc/bbs/NBA/index.html'\n",
    "r = requests.get(url,cookies={'over18': '1'})\n",
    "doc = pq(r.text)"
   ]
  },
  {
   "cell_type": "code",
   "execution_count": 32,
   "metadata": {},
   "outputs": [
    {
     "name": "stdout",
     "output_type": "stream",
     "text": "Rambo\n[BOX ] Pelicans 113:123 Lakers 數據\n 1/04\n"
    }
   ],
   "source": [
    "authors = doc('.r-ent  .author')\n",
    "print(authors[0].text)\n",
    "atags = doc('.r-ent  a')\n",
    "print(atags[0].text)\n",
    "dates = doc('.r-ent  .date')\n",
    "print(dates[0].text)\n",
    "\n"
   ]
  },
  {
   "cell_type": "markdown",
   "metadata": {},
   "source": [
    "### ② 印出第一頁所有文章的「作者」「標題」「時間」"
   ]
  },
  {
   "cell_type": "code",
   "execution_count": 35,
   "metadata": {},
   "outputs": [
    {
     "name": "stdout",
     "output_type": "stream",
     "text": "「作者」\nRambo\ncurrykukuo\ns27052705\nzxy472\npneumo\nthnlkj0665\nbbbyes123\nwhu946102\nDarkApplePie\nKOF98992000\nghost069\nJRSmith\nasdf1256\nChrisDavis\na78998042a\nheatthree\nhumbler\nVedan\nVedan\nqazwsx879345\nAcetoxy\n"
    }
   ],
   "source": [
    "print(\"「作者」\")\n",
    "authors = doc('.r-ent  .author')\n",
    "for author in authors:\n",
    "    print(author.text)\n"
   ]
  },
  {
   "cell_type": "code",
   "execution_count": 37,
   "metadata": {},
   "outputs": [
    {
     "name": "stdout",
     "output_type": "stream",
     "text": "「標題」\n[BOX ] Pelicans 113:123 Lakers 數據\n[新聞] Logo Man大讚唐西奇會超越德佬\n[新聞] 首返湖人主場 英格倫：夢想成真之地\n[討論] 對手得分後誰發底線球有差嗎\n[外絮] Trae Young對被Marcus Smart跨過的反應\n[情報] James Harden 生涯三分進球數達到2200顆\n[花邊] LeBron限時動態\n[討論] C羅是不是足球界的詹姆斯？\nRe: [花邊] LeBron限時動態\nRe: [討論] Harden今天上籃步伐\n[討論] 哈登的打法算是省力還是費力\nRe: [討論] 10年代回顧—2010-11賽季\n[新聞] 不輕易交易羅素　勇士打算送走另兩名得分\nRe: [討論] C羅是不是足球界的詹姆斯？\n[情報] NBA Standings (Jan. 04, 2020)\nRe: [新聞] 不輕易交易羅素　勇士打算送走另兩名得分\n[花邊] 當Ayton得知他要和Baynes一同先發的反應\n[公告] 板規v6.8\n[公告] 樂透取消及未來不再開啟樂透\n[公告] 版主上任相關事項 \n[情報] SEASON Schedule 賽程 January 19–20\n"
    }
   ],
   "source": [
    "print(\"「標題」\")\n",
    "atags = doc('.r-ent  .title>a')\n",
    "for atag in atags:\n",
    "    print(atag.text)\n"
   ]
  },
  {
   "cell_type": "code",
   "execution_count": 38,
   "metadata": {},
   "outputs": [
    {
     "name": "stdout",
     "output_type": "stream",
     "text": "「時間」\n 1/04\n 1/04\n 1/04\n 1/04\n 1/04\n 1/04\n 1/04\n 1/04\n 1/04\n 1/04\n 1/04\n 1/04\n 1/04\n 1/04\n 1/04\n 1/04\n 1/04\n 5/24\n 6/24\n10/25\n 1/03\n"
    }
   ],
   "source": [
    "print(\"「時間」\")\n",
    "dates = doc('.r-ent  .date')\n",
    "for date in dates:\n",
    "    print(date.text)"
   ]
  },
  {
   "cell_type": "markdown",
   "metadata": {},
   "source": [
    "### ③ 試著爬爬看其他版的文章"
   ]
  },
  {
   "cell_type": "code",
   "execution_count": null,
   "metadata": {},
   "outputs": [],
   "source": [
    "'''\n",
    "Your Code\n",
    "'''"
   ]
  }
 ],
 "metadata": {
  "kernelspec": {
   "display_name": "Python 3",
   "language": "python",
   "name": "python3"
  },
  "language_info": {
   "codemirror_mode": {
    "name": "ipython",
    "version": 3
   },
   "file_extension": ".py",
   "mimetype": "text/x-python",
   "name": "python",
   "nbconvert_exporter": "python",
   "pygments_lexer": "ipython3",
   "version": "3.5.4"
  }
 },
 "nbformat": 4,
 "nbformat_minor": 2
}