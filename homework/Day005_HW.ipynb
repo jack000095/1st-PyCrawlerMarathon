{
 "cells": [
  {
   "cell_type": "markdown",
   "metadata": {},
   "source": [
    "# API 資料串接 - 以 Dcard API 實作範例\n",
    "\n",
    "* 了解 Dcard API 使用方式與回傳內容\n",
    "* 撰寫程式存取 API 且解析 JSON 格式資料\n"
   ]
  },
  {
   "cell_type": "markdown",
   "metadata": {},
   "source": [
    "## 作業目標\n",
    "\n",
    "* 請利用 API: https://www.dcard.tw/_api/forums/pet/posts?popular=true 回答下列問題：\n",
    "\n",
    "1. 這個 API 一次會回傳幾筆資料？每一筆資料包含哪些欄位？\n",
    "2. 取出每一筆資料的「標題」、「貼文時間」、「留言人數」、「按讚人數」\n",
    "3. 計算熱門/非熱門文章的「平均留言人數」與「平均按讚人數」"
   ]
  },
  {
   "cell_type": "code",
   "execution_count": 1,
   "metadata": {},
   "outputs": [
    {
     "name": "stdout",
     "output_type": "stream",
     "text": [
      "33 筆\n"
     ]
    }
   ],
   "source": [
    "# 1. 這個 API 一次會回傳幾筆資料？每一筆資料包含哪些欄位？\n",
    "\n",
    "import requests\n",
    "r = requests.get('https://www.dcard.tw/_api/forums/pet/posts?popular=true')\n",
    "response = r.text\n",
    "\n",
    "# response\n",
    "import json\n",
    "data = json.loads(response)\n",
    "#幾筆資料\n",
    "len(data)\n",
    "dictdata = data[0]\n",
    "print(len(dictdata),\"筆\")\n",
    "\n"
   ]
  },
  {
   "cell_type": "code",
   "execution_count": 2,
   "metadata": {},
   "outputs": [
    {
     "name": "stdout",
     "output_type": "stream",
     "text": [
      "excerpt\n",
      "withVideos\n",
      "pinned\n",
      "tags\n",
      "createdAt\n",
      "forumName\n",
      "withNickname\n",
      "department\n",
      "replyTitle\n",
      "customStyle\n",
      "reactions\n",
      "reportReasonText\n",
      "hidden\n",
      "anonymousDepartment\n",
      "layout\n",
      "school\n",
      "postAvatar\n",
      "forumId\n",
      "media\n",
      "id\n",
      "likeCount\n",
      "isSuspiciousAccount\n",
      "forumAlias\n",
      "meta\n",
      "topics\n",
      "commentCount\n",
      "updatedAt\n",
      "withImages\n",
      "title\n",
      "mediaMeta\n",
      "anonymousSchool\n",
      "gender\n",
      "replyId\n"
     ]
    }
   ],
   "source": [
    "# 每一筆資料包含哪些欄位\n",
    "for k,v in dictdata.items():\n",
    "    print(k)"
   ]
  },
  {
   "cell_type": "code",
   "execution_count": 3,
   "metadata": {},
   "outputs": [
    {
     "data": {
      "text/plain": [
       "{'anonymousDepartment': False,\n",
       " 'anonymousSchool': False,\n",
       " 'commentCount': 49,\n",
       " 'createdAt': '2019-12-11T04:58:01.541Z',\n",
       " 'customStyle': None,\n",
       " 'department': 'qas1961412',\n",
       " 'excerpt': '修平科大的同學  妳家的貓，牠的眼睛真的好漂亮好可愛哦哦哦，可以再多給一點嗎><',\n",
       " 'forumAlias': 'pet',\n",
       " 'forumId': '7ee21581-1307-4ba9-b9dc-82028bdcca49',\n",
       " 'forumName': '寵物',\n",
       " 'gender': 'F',\n",
       " 'hidden': False,\n",
       " 'id': 232664920,\n",
       " 'isSuspiciousAccount': False,\n",
       " 'layout': 'classic',\n",
       " 'likeCount': 1220,\n",
       " 'media': [{'url': 'https://i.imgur.com/bYxsas3.jpg'}],\n",
       " 'mediaMeta': [{'createdAt': '2019-12-11T04:58:01.541Z',\n",
       "   'id': '7468f68f-2d41-469d-bf3b-683cd05b9d69',\n",
       "   'normalizedUrl': 'https://i.imgur.com/bYxsas3l.jpg',\n",
       "   'tags': ['ANNOTATED'],\n",
       "   'thumbnail': 'https://i.imgur.com/bYxsas3l.jpg',\n",
       "   'type': 'image/thumbnail',\n",
       "   'updatedAt': '2019-12-11T04:58:01.541Z',\n",
       "   'url': 'https://i.imgur.com/bYxsas3l.jpg'},\n",
       "  {'createdAt': '2019-12-11T04:58:01.541Z',\n",
       "   'id': '7468f68f-2d41-469d-bf3b-683cd05b9d69',\n",
       "   'normalizedUrl': 'https://imgur.com/bYxsas3',\n",
       "   'tags': ['ANNOTATED'],\n",
       "   'thumbnail': 'https://i.imgur.com/bYxsas3l.jpg',\n",
       "   'type': 'image/imgur',\n",
       "   'updatedAt': '2019-12-11T04:58:01.541Z',\n",
       "   'url': 'https://i.imgur.com/bYxsas3.jpg'}],\n",
       " 'meta': {'layout': 'classic'},\n",
       " 'pinned': False,\n",
       " 'postAvatar': '',\n",
       " 'reactions': [{'count': 1220, 'id': '286f599c-f86a-4932-82f0-f5a06f1eca03'}],\n",
       " 'replyId': None,\n",
       " 'replyTitle': None,\n",
       " 'reportReasonText': '',\n",
       " 'school': '一天胖一吋',\n",
       " 'tags': [],\n",
       " 'title': '這貓的眼睛好可愛\\U0001f97a',\n",
       " 'topics': ['眼睛', '貓', '可愛'],\n",
       " 'updatedAt': '2019-12-11T04:58:01.541Z',\n",
       " 'withImages': True,\n",
       " 'withNickname': True,\n",
       " 'withVideos': False}"
      ]
     },
     "execution_count": 3,
     "metadata": {},
     "output_type": "execute_result"
    }
   ],
   "source": [
    "data[0]"
   ]
  },
  {
   "cell_type": "code",
   "execution_count": 4,
   "metadata": {},
   "outputs": [
    {
     "name": "stdout",
     "output_type": "stream",
     "text": [
      "這貓的眼睛好可愛🥺 2019-12-11T04:58:01.541Z 49 1220\n",
      "阿嬤說我很醜 要把我丟掉⋯⋯ 2019-12-11T08:15:01.549Z 58 1109\n",
      "找我嗎？每天都被這隻喵萌死 2019-12-11T14:24:45.584Z 9 413\n",
      "女大18變 2019-12-11T19:33:11.349Z 9 254\n",
      "可以蓋柴樓嗎🤤🤤 2019-12-11T07:38:34.653Z 40 246\n",
      "我家狗睡姿很chill 2019-12-11T17:49:45.147Z 5 127\n",
      "#急#救救癱瘓小橘貓！#籌措醫藥費# 2019-12-11T15:47:11.706Z 12 121\n",
      "我養了一隻工讀生？？ 2019-12-12T02:02:15.440Z 3 120\n",
      "#貓 手掌開花教學 2019-12-11T15:24:34.546Z 15 100\n",
      "我家的福德正神 2019-12-11T08:57:10.599Z 2 69\n",
      "#發問 家裡貓咪突然性情大變⋯ 2019-12-11T12:23:34.883Z 24 67\n",
      "崩壞的臘腸狗😅 2019-12-11T13:47:20.552Z 2 50\n",
      "求跟浪貓相處的方式 2019-12-11T05:55:37.661Z 12 38\n",
      "#貓 #圖 #忘記收舌頭是不是會傳染🤔🤔 2019-12-12T02:32:28.334Z 9 36\n",
      "尋找鼠鼠 2019-12-11T03:41:29.036Z 1 32\n",
      "柴柴新成員 2019-12-11T04:43:01.752Z 10 28\n",
      "#記錄 誘拐未成年少女? 2019-12-12T04:48:16.733Z 2 26\n",
      "[新竹市]黃色米克斯-尋賞五萬元(世界街與仁愛路65巷) 2019-12-11T13:59:32.259Z 3 25\n",
      "姑姑家養了一隻長頸貓🤨🤨？？ 2019-12-12T05:34:23.963Z 5 22\n",
      "我只是一隻長長的貓 2019-12-11T20:44:57.157Z 3 22\n",
      "霸氣卯咪 2019-12-11T04:53:13.344Z 0 21\n",
      "同學你的貓好可愛🥺 2019-12-11T13:59:12.475Z 5 20\n",
      "#曬寵 我叫小櫻，不是蔡英文的英。 2019-12-11T08:44:15.029Z 7 19\n",
      "尋狗啟示 2019-12-11T03:35:33.092Z 3 19\n",
      "原來我有隻網美貓 2019-12-12T09:00:11.651Z 1 17\n",
      "教我家貓咪手掌開花 2019-12-11T11:48:29.879Z 4 17\n",
      "新來的小朋友🐯 2019-12-11T19:31:44.038Z 0 16\n",
      "今天的寵物限時 2019-12-11T15:17:03.736Z 4 16\n",
      "（問題）撿到鸚鵡 2019-12-12T05:33:13.389Z 4 14\n",
      "我家鼠寶 2019-12-11T23:12:39.152Z 2 12\n"
     ]
    }
   ],
   "source": [
    "# 2. 取出每一筆資料的                       「標題」、「貼文時間」、「留言人數」、「按讚人數」\n",
    "# 用api的URL 打開browser,欄位對應如右：      \"title\" \"createdAt\" \"commentCount\" \"likeCount\":\n",
    "for d in data:\n",
    "    print(d['title'],d['createdAt'],d['commentCount'],d['likeCount'])"
   ]
  },
  {
   "cell_type": "code",
   "execution_count": 5,
   "metadata": {},
   "outputs": [
    {
     "data": {
      "text/plain": [
       "'\\nYour Code\\n'"
      ]
     },
     "execution_count": 5,
     "metadata": {},
     "output_type": "execute_result"
    }
   ],
   "source": [
    "# 3. 計算熱門/非熱門文章的「平均留言人數」與「平均按讚人數」\n",
    "\n",
    "'''\n",
    "Your Code\n",
    "'''"
   ]
  },
  {
   "cell_type": "code",
   "execution_count": null,
   "metadata": {
    "collapsed": true
   },
   "outputs": [],
   "source": []
  },
  {
   "cell_type": "code",
   "execution_count": null,
   "metadata": {
    "collapsed": true
   },
   "outputs": [],
   "source": []
  }
 ],
 "metadata": {
  "kernelspec": {
   "display_name": "Python [default]",
   "language": "python",
   "name": "python3"
  },
  "language_info": {
   "codemirror_mode": {
    "name": "ipython",
    "version": 3
   },
   "file_extension": ".py",
   "mimetype": "text/x-python",
   "name": "python",
   "nbconvert_exporter": "python",
   "pygments_lexer": "ipython3",
   "version": "3.5.4"
  }
 },
 "nbformat": 4,
 "nbformat_minor": 2
}
