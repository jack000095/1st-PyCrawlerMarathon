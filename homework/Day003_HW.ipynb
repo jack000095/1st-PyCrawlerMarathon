{
 "cells": [
  {
   "cell_type": "markdown",
   "metadata": {},
   "source": [
    "# Python 下載XML檔案與解析\n",
    "\n",
    "\n",
    "* 了解 xml 檔案格式與內容\n",
    "* 能夠利用套件存取 xml 格式的檔案\n"
   ]
  },
  {
   "cell_type": "markdown",
   "metadata": {},
   "source": [
    "## 作業目標\n",
    "\n",
    "* 比較一下範例檔案中的「File I/O」與「xmltodict」讀出來的內容有什麼差異\n",
    "\n",
    "* 根據範例檔案的結果：\n",
    "    1. 請問高雄市有多少地區有溫度資料？\n",
    "    2. 請取出每一個地區所記錄的第一個時間點跟溫度\n",
    "    3. 請取出第一個地區所記錄的每一個時間點跟溫度"
   ]
  },
  {
   "cell_type": "markdown",
   "metadata": {},
   "source": [
    "### 比較一下範例檔案中的「File I/O」與「xmltodict」讀出來的內容有什麼差異\n"
   ]
  },
  {
   "cell_type": "code",
   "execution_count": 1,
   "metadata": {
    "collapsed": true
   },
   "outputs": [],
   "source": [
    "# File I/O: xml 用文字檔打開的情形相同，不易讀\n",
    "# xmltodict:parse 成可以用 py 的 dict 可以輕易 acsss 的 object"
   ]
  },
  {
   "cell_type": "markdown",
   "metadata": {},
   "source": [
    "### 根據範例檔案的結果：\n",
    "\n",
    "1. 請問高雄市有多少地區有溫度資料？\n",
    "2. 請取出每一個地區所記錄的第一個時間點跟溫度\n",
    "3. 請取出第一個地區所記錄的每一個時間點跟溫度"
   ]
  },
  {
   "cell_type": "code",
   "execution_count": 9,
   "metadata": {
    "collapsed": true
   },
   "outputs": [],
   "source": [
    "# 下載檔案\n",
    "import urllib.request\n",
    "import zipfile\n",
    "\n",
    "res = \"http://opendata.cwb.gov.tw/govdownload?dataid=F-D0047-093&authorizationkey=rdec-key-123-45678-011121314\"\n",
    "urllib.request.urlretrieve(res, \"./data/example.zip\")\n",
    "f = zipfile.ZipFile('./data/example.zip')\n",
    "f.extractall('./data')"
   ]
  },
  {
   "cell_type": "code",
   "execution_count": 10,
   "metadata": {},
   "outputs": [
    {
     "name": "stdout",
     "output_type": "stream",
     "text": [
      "66_Week24_EN.xml\n",
      "68_Week24_CH.xml\n",
      "67_Weekday_EN.xml\n",
      "65_Weekday_CH.xml\n",
      "09020_72hr_CH.xml\n",
      "10002_72hr_EN.xml\n",
      "example.zip\n",
      "10017_72hr_EN.xml\n",
      "10014_Week24_EN.xml\n",
      "67_72hr_EN.xml\n",
      "10008_72hr_CH.xml\n",
      "TAIWAN_72hr_EN.xml\n",
      "10009_Week24_CH.xml\n",
      "10007_Week24_EN.xml\n",
      "10010_Week24_EN.xml\n",
      "09007_72hr_CH.xml\n",
      "10014_72hr_CH.xml\n",
      "68_Weekday_EN.xml\n",
      "64_72hr_CH.xml\n",
      "10017_Week24_EN.xml\n",
      "10020_Week24_CH.xml\n",
      "10013_Week24_EN.xml\n",
      "10004_Week24_EN.xml\n",
      "10020_Weekday_EN.xml\n",
      "63_Weekday_CH.xml\n",
      "10020_72hr_EN.xml\n",
      "65_Week24_EN.xml\n",
      "09020_Weekday_EN.xml\n",
      "10004_72hr_CH.xml\n",
      "10018_72hr_CH.xml\n",
      "66_Weekday_EN.xml\n",
      "10007_72hr_EN.xml\n",
      "68_72hr_CH.xml\n",
      "TAIWAN_Week24_EN.xml\n",
      "64_Weekday_CH.xml\n",
      "65_Week24_CH.xml\n",
      "09020_Weekday_CH.xml\n",
      "10004_72hr_EN.xml\n",
      "66_Weekday_CH.xml\n",
      "10018_72hr_EN.xml\n",
      "10007_72hr_CH.xml\n",
      "68_72hr_EN.xml\n",
      "TAIWAN_Week24_CH.xml\n",
      "64_Weekday_EN.xml\n",
      "10017_Week24_CH.xml\n",
      "10020_Week24_EN.xml\n",
      "10013_Week24_CH.xml\n",
      "10020_Weekday_CH.xml\n",
      "10004_Week24_CH.xml\n",
      "10020_72hr_CH.xml\n",
      "63_Weekday_EN.xml\n",
      "10014_Week24_CH.xml\n",
      "10017_72hr_CH.xml\n",
      "67_72hr_CH.xml\n",
      "10008_72hr_EN.xml\n",
      "TAIWAN_72hr_CH.xml\n",
      "10007_Week24_CH.xml\n",
      "10009_Week24_EN.xml\n",
      "09007_72hr_EN.xml\n",
      "10010_Week24_CH.xml\n",
      "10014_72hr_EN.xml\n",
      "68_Weekday_CH.xml\n",
      "64_72hr_EN.xml\n",
      "68_Week24_EN.xml\n",
      "66_Week24_CH.xml\n",
      "67_Weekday_CH.xml\n",
      "65_Weekday_EN.xml\n",
      "09020_72hr_EN.xml\n",
      "10002_72hr_CH.xml\n",
      "10007_Weekday_CH.xml\n",
      "10005_Weekday_EN.xml\n",
      "10008_Week24_EN.xml\n",
      "10010_Weekday_EN.xml\n",
      "10018_Weekday_EN.xml\n",
      "10002_Week24_CH.xml\n",
      "10005_72hr_CH.xml\n",
      "10015_Week24_CH.xml\n",
      "09020_Week24_CH.xml\n",
      "10010_72hr_CH.xml\n",
      "10015_Weekday_CH.xml\n",
      "10017_Weekday_EN.xml\n",
      "10002_Weekday_EN.xml\n",
      "63_Week24_CH.xml\n",
      "09007_Weekday_CH.xml\n",
      "10008_Weekday_CH.xml\n",
      "10013_72hr_EN.xml\n",
      "63_72hr_EN.xml\n",
      "67_Week24_CH.xml\n",
      "65_72hr_CH.xml\n",
      "10015_72hr_CH.xml\n",
      "10009_Weekday_CH.xml\n",
      "10014_Weekday_CH.xml\n",
      "10009_72hr_CH.xml\n",
      "66_72hr_EN.xml\n",
      "TAIWAN_Weekday_CH.xml\n",
      "10016_72hr_EN.xml\n",
      "64_Week24_CH.xml\n",
      "10016_Weekday_EN.xml\n",
      "09007_Week24_EN.xml\n",
      "10005_Week24_CH.xml\n",
      "10013_Weekday_CH.xml\n",
      "10016_Week24_CH.xml\n",
      "10018_Week24_EN.xml\n",
      "10004_Weekday_EN.xml\n",
      "09007_Week24_CH.xml\n",
      "10005_Week24_EN.xml\n",
      "10013_Weekday_EN.xml\n",
      "10018_Week24_CH.xml\n",
      "10004_Weekday_CH.xml\n",
      "10016_Week24_EN.xml\n",
      "65_72hr_EN.xml\n",
      "10009_Weekday_EN.xml\n",
      "10015_72hr_EN.xml\n",
      "10014_Weekday_EN.xml\n",
      "10009_72hr_EN.xml\n",
      "TAIWAN_Weekday_EN.xml\n",
      "66_72hr_CH.xml\n",
      "10016_72hr_CH.xml\n",
      "64_Week24_EN.xml\n",
      "10016_Weekday_CH.xml\n",
      "10010_72hr_EN.xml\n",
      "10015_Weekday_EN.xml\n",
      "10002_Weekday_CH.xml\n",
      "10017_Weekday_CH.xml\n",
      "63_Week24_EN.xml\n",
      "10008_Weekday_EN.xml\n",
      "09007_Weekday_EN.xml\n",
      "10013_72hr_CH.xml\n",
      "63_72hr_CH.xml\n",
      "67_Week24_EN.xml\n",
      "10007_Weekday_EN.xml\n",
      "10010_Weekday_CH.xml\n",
      "10005_Weekday_CH.xml\n",
      "10008_Week24_CH.xml\n",
      "10018_Weekday_CH.xml\n",
      "10002_Week24_EN.xml\n",
      "10005_72hr_EN.xml\n",
      "10015_Week24_EN.xml\n",
      "09020_Week24_EN.xml\n"
     ]
    }
   ],
   "source": [
    "import os, sys\n",
    "\n",
    "# 打开文件\n",
    "dirs = os.listdir( './data' )\n",
    "\n",
    "# 输出所有文件和文件夹\n",
    "for file in dirs:\n",
    "    print(file)"
   ]
  },
  {
   "cell_type": "code",
   "execution_count": 2,
   "metadata": {},
   "outputs": [],
   "source": [
    "import xmltodict\n",
    "\n",
    "# 存取檔案\n",
    "\n",
    "with open('./data/64_72hr_CH.xml',encoding='utf-8') as fd:\n",
    "    doc = dict(xmltodict.parse(fd.read()))\n"
   ]
  },
  {
   "cell_type": "code",
   "execution_count": 8,
   "metadata": {},
   "outputs": [
    {
     "data": {
      "text/plain": [
       "dict"
      ]
     },
     "execution_count": 8,
     "metadata": {},
     "output_type": "execute_result"
    }
   ],
   "source": [
    "type(doc)"
   ]
  },
  {
   "cell_type": "code",
   "execution_count": 72,
   "metadata": {},
   "outputs": [
    {
     "name": "stdout",
     "output_type": "stream",
     "text": [
      "高雄市有 38 區有溫度資料\n"
     ]
    }
   ],
   "source": [
    "# 1. 請問高雄市有多少地區有溫度資料？\n",
    "# 印出來以確定是高雄市的資料\n",
    "locs = doc['cwbopendata']['dataset']['locations']['location']\n",
    "#法1：用遍歷法\n",
    "# i = 0\n",
    "# for loc in locs:\n",
    "#     print(loc['locationName'])\n",
    "#     i = i+1\n",
    "#print(i)\n",
    "#法2：找出len\n",
    "\n",
    "print('高雄市有 ' + str(len(locs)) + ' 區有溫度資料')\n"
   ]
  },
  {
   "cell_type": "code",
   "execution_count": 60,
   "metadata": {},
   "outputs": [
    {
     "name": "stdout",
     "output_type": "stream",
     "text": [
      "2019-12-11T18:00:00+08:00\n",
      "23\n",
      "2019-12-11T18:00:00+08:00\n",
      "23\n",
      "2019-12-11T18:00:00+08:00\n",
      "23\n",
      "2019-12-11T18:00:00+08:00\n",
      "22\n",
      "2019-12-11T18:00:00+08:00\n",
      "23\n",
      "2019-12-11T18:00:00+08:00\n",
      "22\n",
      "2019-12-11T18:00:00+08:00\n",
      "23\n",
      "2019-12-11T18:00:00+08:00\n",
      "23\n",
      "2019-12-11T18:00:00+08:00\n",
      "23\n",
      "2019-12-11T18:00:00+08:00\n",
      "23\n",
      "2019-12-11T18:00:00+08:00\n",
      "22\n",
      "2019-12-11T18:00:00+08:00\n",
      "24\n",
      "2019-12-11T18:00:00+08:00\n",
      "23\n",
      "2019-12-11T18:00:00+08:00\n",
      "24\n",
      "2019-12-11T18:00:00+08:00\n",
      "23\n",
      "2019-12-11T18:00:00+08:00\n",
      "23\n",
      "2019-12-11T18:00:00+08:00\n",
      "23\n",
      "2019-12-11T18:00:00+08:00\n",
      "23\n",
      "2019-12-11T18:00:00+08:00\n",
      "23\n",
      "2019-12-11T18:00:00+08:00\n",
      "22\n",
      "2019-12-11T18:00:00+08:00\n",
      "23\n",
      "2019-12-11T18:00:00+08:00\n",
      "22\n",
      "2019-12-11T18:00:00+08:00\n",
      "20\n",
      "2019-12-11T18:00:00+08:00\n",
      "20\n",
      "2019-12-11T18:00:00+08:00\n",
      "22\n",
      "2019-12-11T18:00:00+08:00\n",
      "21\n",
      "2019-12-11T18:00:00+08:00\n",
      "20\n",
      "2019-12-11T18:00:00+08:00\n",
      "21\n",
      "2019-12-11T18:00:00+08:00\n",
      "22\n",
      "2019-12-11T18:00:00+08:00\n",
      "22\n",
      "2019-12-11T18:00:00+08:00\n",
      "22\n",
      "2019-12-11T18:00:00+08:00\n",
      "22\n",
      "2019-12-11T18:00:00+08:00\n",
      "19\n",
      "2019-12-11T18:00:00+08:00\n",
      "17\n",
      "2019-12-11T18:00:00+08:00\n",
      "22\n",
      "2019-12-11T18:00:00+08:00\n",
      "19\n",
      "2019-12-11T18:00:00+08:00\n",
      "20\n",
      "2019-12-11T18:00:00+08:00\n",
      "16\n",
      "2019-12-11T18:00:00+08:00\n",
      "15\n"
     ]
    },
    {
     "data": {
      "text/plain": [
       "'\\nYour Code\\n'"
      ]
     },
     "execution_count": 60,
     "metadata": {},
     "output_type": "execute_result"
    }
   ],
   "source": [
    "# 2. 請取出每一個地區所記錄的第一個時間點跟溫度\n",
    "locs = doc['cwbopendata']['dataset']['locations']['location']\n",
    "print(locs[0]['weatherElement'][0]['time'][0]['dataTime'])\n",
    "print(locs[0]['weatherElement'][0]['time'][0]['elementValue']['value'])\n",
    "\n",
    "for i in range(38):\n",
    "    print(locs[i]['weatherElement'][0]['time'][0]['dataTime'])\n",
    "    print(locs[i]['weatherElement'][0]['time'][0]['elementValue']['value'])  "
   ]
  },
  {
   "cell_type": "code",
   "execution_count": 71,
   "metadata": {},
   "outputs": [
    {
     "name": "stdout",
     "output_type": "stream",
     "text": [
      "2019-12-11T18:00:00+08:00 23\n",
      "2019-12-11T21:00:00+08:00 22\n",
      "2019-12-12T00:00:00+08:00 20\n",
      "2019-12-12T03:00:00+08:00 19\n",
      "2019-12-12T06:00:00+08:00 19\n",
      "2019-12-12T09:00:00+08:00 20\n",
      "2019-12-12T12:00:00+08:00 25\n",
      "2019-12-12T15:00:00+08:00 25\n",
      "2019-12-12T18:00:00+08:00 23\n",
      "2019-12-12T21:00:00+08:00 21\n",
      "2019-12-13T00:00:00+08:00 20\n",
      "2019-12-13T03:00:00+08:00 19\n",
      "2019-12-13T06:00:00+08:00 18\n",
      "2019-12-13T09:00:00+08:00 21\n",
      "2019-12-13T12:00:00+08:00 27\n",
      "2019-12-13T15:00:00+08:00 27\n",
      "2019-12-13T18:00:00+08:00 25\n",
      "2019-12-13T21:00:00+08:00 22\n",
      "2019-12-14T00:00:00+08:00 21\n",
      "2019-12-14T03:00:00+08:00 20\n",
      "2019-12-14T06:00:00+08:00 19\n",
      "2019-12-14T09:00:00+08:00 21\n",
      "2019-12-14T12:00:00+08:00 26\n",
      "2019-12-14T15:00:00+08:00 27\n"
     ]
    }
   ],
   "source": [
    "# 3. 請取出第一個地區所記錄的每一個時間點跟溫度\n",
    "\n",
    "locs = doc['cwbopendata']['dataset']['locations']['location']\n",
    "timetemps = locs[0]['weatherElement'][0]['time']\n",
    "for t in timetemps:\n",
    "    print(t['dataTime'],t['elementValue']['value'])"
   ]
  },
  {
   "cell_type": "code",
   "execution_count": null,
   "metadata": {
    "collapsed": true
   },
   "outputs": [],
   "source": [
    "''' Memo\n",
    "# print(locs[0]['weatherElement'][0]['time'])\n",
    "# locs[0]['weatherElement'][0]['time'][0]['dataTime']\n",
    "# locs[0]['weatherElement'][0]['time'][0]['elementValue']['value']\n",
    "\n",
    "[OrderedDict([('dataTime', '2019-12-11T18:00:00+08:00'),\n",
    "              ('elementValue', OrderedDict([('value', '23'), ('measures', '攝氏度')]))]),\n",
    "OrderedDict([('dataTime', '2019-12-11T21:00:00+08:00'), \n",
    "             ('elementValue', OrderedDict([('value', '22'), ('measures', '攝氏度')]))]),\n",
    "OrderedDict([('dataTime', '2019-12-12T00:00:00+08:00'), \n",
    "              ('elementValue', OrderedDict([('value', '20'), ('measures', '攝氏度')]))]), \n",
    " OrderedDict([('dataTime', '2019-12-12T03:00:00+08:00'), \n",
    "              ('elementValue', OrderedDict([('value', '19'), ('measures', '攝氏度')]))]), \n",
    " OrderedDict([('dataTime', '2019-12-12T06:00:00+08:00'), \n",
    "              ('elementValue', OrderedDict([('value', '19'), ('measures', '攝氏度')]))]), \n",
    " OrderedDict([('dataTime', '2019-12-12T09:00:00+08:00'), \n",
    "              ('elementValue', OrderedDict([('value', '20'), ('measures', '攝氏度')]))]),\n",
    " OrderedDict([('dataTime', '2019-12-12T12:00:00+08:00'), \n",
    "              ('elementValue', OrderedDict([('value', '25'), ('measures', '攝氏度')]))]),\n",
    " OrderedDict([('dataTime', '2019-12-12T15:00:00+08:00'), \n",
    "              ('elementValue', OrderedDict([('value', '25'), ('measures', '攝氏度')]))]), \n",
    " OrderedDict([('dataTime', '2019-12-12T18:00:00+08:00'), \n",
    "              ('elementValue', OrderedDict([('value', '23'), ('measures', '攝氏度')]))]), \n",
    " OrderedDict([('dataTime', '2019-12-12T21:00:00+08:00'), \n",
    "              ('elementValue', OrderedDict([('value', '21'), ('measures', '攝氏度')]))]), \n",
    " OrderedDict([('dataTime', '2019-12-13T00:00:00+08:00'), \n",
    "              ('elementValue', OrderedDict([('value', '20'), ('measures', '攝氏度')]))]), \n",
    " OrderedDict([('dataTime', '2019-12-13T03:00:00+08:00'), \n",
    "              ('elementValue', OrderedDict([('value', '19'), ('measures', '攝氏度')]))]),\n",
    " OrderedDict([('dataTime', '2019-12-13T06:00:00+08:00'), \n",
    "              ('elementValue', OrderedDict([('value', '18'), ('measures', '攝氏度')]))]), \n",
    " OrderedDict([('dataTime', '2019-12-13T09:00:00+08:00'), \n",
    "              ('elementValue', OrderedDict([('value', '21'), ('measures', '攝氏度')]))]), \n",
    " OrderedDict([('dataTime', '2019-12-13T12:00:00+08:00'), \n",
    "              ('elementValue', OrderedDict([('value', '27'), ('measures', '攝氏度')]))]), \n",
    " OrderedDict([('dataTime', '2019-12-13T15:00:00+08:00'), \n",
    "              ('elementValue', OrderedDict([('value', '27'), ('measures', '攝氏度')]))]),\n",
    " OrderedDict([('dataTime', '2019-12-13T18:00:00+08:00'), \n",
    "              ('elementValue', OrderedDict([('value', '25'), ('measures', '攝氏度')]))]),\n",
    " OrderedDict([('dataTime', '2019-12-13T21:00:00+08:00'), \n",
    "              ('elementValue', OrderedDict([('value', '22'), ('measures', '攝氏度')]))]), \n",
    " OrderedDict([('dataTime', '2019-12-14T00:00:00+08:00'), \n",
    "              ('elementValue', OrderedDict([('value', '21'), ('measures', '攝氏度')]))]),\n",
    " OrderedDict([('dataTime', '2019-12-14T03:00:00+08:00'), \n",
    "              ('elementValue', OrderedDict([('value', '20'), ('measures', '攝氏度')]))]),\n",
    " OrderedDict([('dataTime', '2019-12-14T06:00:00+08:00'), \n",
    "              ('elementValue', OrderedDict([('value', '19'), ('measures', '攝氏度')]))]),\n",
    " OrderedDict([('dataTime', '2019-12-14T09:00:00+08:00'), \n",
    "              ('elementValue', OrderedDict([('value', '21'), ('measures', '攝氏度')]))]), \n",
    " OrderedDict([('dataTime', '2019-12-14T12:00:00+08:00'), \n",
    "              ('elementValue', OrderedDict([('value', '26'), ('measures', '攝氏度')]))]),\n",
    " OrderedDict([('dataTime', '2019-12-14T15:00:00+08:00'), \n",
    "              ('elementValue', OrderedDict([('value', '27'), ('measures', '攝氏度')]))])]\n",
    "'''"
   ]
  }
 ],
 "metadata": {
  "kernelspec": {
   "display_name": "Python [default]",
   "language": "python",
   "name": "python3"
  },
  "language_info": {
   "codemirror_mode": {
    "name": "ipython",
    "version": 3
   },
   "file_extension": ".py",
   "mimetype": "text/x-python",
   "name": "python",
   "nbconvert_exporter": "python",
   "pygments_lexer": "ipython3",
   "version": "3.5.4"
  }
 },
 "nbformat": 4,
 "nbformat_minor": 2
}
